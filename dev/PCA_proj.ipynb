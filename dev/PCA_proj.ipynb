{
 "cells": [
  {
   "cell_type": "code",
   "execution_count": 12,
   "metadata": {},
   "outputs": [],
   "source": [
    "import numpy as np\n",
    "\n",
    "import matplotlib.pyplot as plt\n",
    "sns.set_style('whitegrid')\n",
    "%matplotlib inline"
   ]
  },
  {
   "cell_type": "code",
   "execution_count": 29,
   "metadata": {},
   "outputs": [],
   "source": [
    "def generate_linear_sample(a, size=15):\n",
    "    x = np.arange(0, size)\n",
    "    e = np.random.normal(size=size) \n",
    "    \n",
    "    y = a * x\n",
    "    return x, y, e"
   ]
  },
  {
   "cell_type": "code",
   "execution_count": 268,
   "metadata": {},
   "outputs": [
    {
     "data": {
      "text/plain": [
       "(-2.0, 16.0, -2.0, 14.0)"
      ]
     },
     "execution_count": 268,
     "metadata": {},
     "output_type": "execute_result"
    },
    {
     "data": {
      "image/png": "[encoded data removed]",
      "text/plain": [
       "<matplotlib.figure.Figure at 0x7f0e6a493f10>"
      ]
     },
     "metadata": {},
     "output_type": "display_data"
    }
   ],
   "source": [
    "from sklearn.decomposition import PCA\n",
    "import numpy as np\n",
    "from numpy.testing import assert_array_almost_equal\n",
    "\n",
    "# Generate data (column wise dimensions)\n",
    "x, y, e = generate_linear_sample(np.random.rand(), 15)\n",
    "X = np.vstack((x,y + e)).T\n",
    "\n",
    "# pca.fit estimates the components (using an SVD on the centered Xtrain):\n",
    "Xtrain = X\n",
    "\n",
    "pca = PCA(n_components=1)\n",
    "pca.fit(Xtrain)\n",
    "\n",
    "U, S, VT = np.linalg.svd(Xtrain - Xtrain.mean(0))\n",
    "\n",
    "## > assert_array_almost_equal(VT[:30], pca.components_)\n",
    "\n",
    "# pca.transform calculates the loadings as you describe\n",
    "\n",
    "X_train_pca = pca.transform(Xtrain)\n",
    "\n",
    "X_train_pca2 = (Xtrain - pca.mean_).dot(pca.components_.T)\n",
    "\n",
    "\n",
    "# pca.inverse_transform obtains the projection \n",
    "# onto components in signal space you are interested in\n",
    "\n",
    "X_projected = pca.inverse_transform(X_train_pca)\n",
    "X_projected2 = X_train_pca.dot(pca.components_) + pca.mean_\n",
    "\n",
    "## > assert_array_almost_equal(X_projected, X_projected2)\n",
    "\n",
    "\n",
    "plt.scatter(X_projected[:,0], X_projected[:,1], color='red')\n",
    "plt.scatter(X_projected2[:,0], X_projected2[:,1], marker='*')\n",
    "\n",
    "plt.scatter(X[:,0], X[:,1])\n",
    "\n",
    "plt.axis('equal')"
   ]
  },
  {
   "cell_type": "code",
   "execution_count": 350,
   "metadata": {},
   "outputs": [
    {
     "data": {
      "text/plain": [
       "(-2.0, 16.0, -2.0, 12.0)"
      ]
     },
     "execution_count": 350,
     "metadata": {},
     "output_type": "execute_result"
    },
    {
     "data": {
      "image/png": "[encoded data removed]",
      "text/plain": [
       "<matplotlib.figure.Figure at 0x7f0e6a313150>"
      ]
     },
     "metadata": {},
     "output_type": "display_data"
    }
   ],
   "source": [
    "from sklearn.decomposition import PCA\n",
    "import numpy as np\n",
    "from numpy.testing import assert_array_almost_equal\n",
    "\n",
    "def np_pca_proj(X):\n",
    "    # Projects dataset onto its K=0 princpal components (total least square, or orthogonal projection)\n",
    "    # manual method using NUMPY\n",
    "\n",
    "    # pca.fit estimates the components (using an SVD on the centered Xtrain):\n",
    "    U, S, VT = np.linalg.svd(X - X.mean(axis=0))\n",
    "\n",
    "    # pca.transform calculates the loadings as you describe\n",
    "    X_pca = (X - X.mean(axis=0)).dot(VT[0].T)\n",
    "\n",
    "    # It's about time to get to the really interesting part: \n",
    "    # the construction of the projection matrix that will be used to transform the Iris data onto the new feature subspace. \n",
    "    # Although, the name \"projection matrix\" has a nice ring to it, it is basically just a matrix of our concatenated top k eigenvectors.   \n",
    "    \n",
    "    # pca.inverse_transform obtains the projection \n",
    "    # onto components in signal space you are interested in\n",
    "    \n",
    "    X_projected = X_pca[:, None].dot(VT[0, None]) + X.mean(axis=0)\n",
    "\n",
    "    return X_projected\n",
    "\n",
    "# Generate data (column wise dimensions)\n",
    "x, y, e = generate_linear_sample(np.random.rand(), 15)\n",
    "X = np.vstack((x,y + e)).T\n",
    "\n",
    "X_projected = np_pca_proj(X)\n",
    "\n",
    "plt.scatter(X_projected[:,0], X_projected[:,1], marker='*')\n",
    "plt.scatter(X[:,0], X[:,1])\n",
    "plt.axis('equal')"
   ]
  }
 ],
 "metadata": {
  "kernelspec": {
   "display_name": "Python 2",
   "language": "python",
   "name": "python2"
  },
  "language_info": {
   "codemirror_mode": {
    "name": "ipython",
    "version": 2
   },
   "file_extension": ".py",
   "mimetype": "text/x-python",
   "name": "python",
   "nbconvert_exporter": "python",
   "pygments_lexer": "ipython2",
   "version": "2.7.12"
  }
 },
 "nbformat": 4,
 "nbformat_minor": 2
}
